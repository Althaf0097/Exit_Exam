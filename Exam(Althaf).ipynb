{
 "cells": [
  {
   "cell_type": "markdown",
   "id": "8640c184-c8fc-40bb-8f5b-dcb4867cfa26",
   "metadata": {},
   "source": [
    "# Question 1 : Flight Dataset"
   ]
  },
  {
   "cell_type": "code",
   "execution_count": 18,
   "id": "980f09d6-f65e-4075-a9bd-7e85e27f894c",
   "metadata": {},
   "outputs": [
    {
     "name": "stdout",
     "output_type": "stream",
     "text": [
      "Defaulting to user installation because normal site-packages is not writeable\n",
      "Requirement already satisfied: openpyxl in c:\\users\\acer\\appdata\\roaming\\python\\python312\\site-packages (3.1.5)\n",
      "Requirement already satisfied: et-xmlfile in c:\\users\\acer\\appdata\\roaming\\python\\python312\\site-packages (from openpyxl) (2.0.0)\n"
     ]
    }
   ],
   "source": [
    "!pip install openpyxl"
   ]
  },
  {
   "cell_type": "code",
   "execution_count": 28,
   "id": "316a0b09-6b6f-451e-b9fe-c209200294d6",
   "metadata": {},
   "outputs": [],
   "source": [
    "import numpy as np\n",
    "import pandas as pd\n",
    "import matplotlib.pyplot as plt\n",
    "import seaborn as sns"
   ]
  },
  {
   "cell_type": "code",
   "execution_count": 29,
   "id": "2bfbf995-57bc-4d22-aafc-9346ce880c04",
   "metadata": {},
   "outputs": [],
   "source": [
    "df = pd.read_excel(\"dataset1.xlsx\")"
   ]
  },
  {
   "cell_type": "code",
   "execution_count": 30,
   "id": "d77ee349-3ec9-473a-9a2b-25dfbc1adfd9",
   "metadata": {},
   "outputs": [
    {
     "data": {
      "text/html": [
       "<div>\n",
       "<style scoped>\n",
       "    .dataframe tbody tr th:only-of-type {\n",
       "        vertical-align: middle;\n",
       "    }\n",
       "\n",
       "    .dataframe tbody tr th {\n",
       "        vertical-align: top;\n",
       "    }\n",
       "\n",
       "    .dataframe thead th {\n",
       "        text-align: right;\n",
       "    }\n",
       "</style>\n",
       "<table border=\"1\" class=\"dataframe\">\n",
       "  <thead>\n",
       "    <tr style=\"text-align: right;\">\n",
       "      <th></th>\n",
       "      <th>Month</th>\n",
       "      <th>DayofMonth</th>\n",
       "      <th>DayOfWeek</th>\n",
       "      <th>DepTime</th>\n",
       "      <th>UniqueCarrier</th>\n",
       "      <th>Origin</th>\n",
       "      <th>Dest</th>\n",
       "      <th>Distance</th>\n",
       "      <th>dep_delayed_15min</th>\n",
       "    </tr>\n",
       "  </thead>\n",
       "  <tbody>\n",
       "    <tr>\n",
       "      <th>0</th>\n",
       "      <td>c-8</td>\n",
       "      <td>c-21</td>\n",
       "      <td>c-7</td>\n",
       "      <td>1934</td>\n",
       "      <td>AA</td>\n",
       "      <td>ATL</td>\n",
       "      <td>DFW</td>\n",
       "      <td>732</td>\n",
       "      <td>N</td>\n",
       "    </tr>\n",
       "    <tr>\n",
       "      <th>1</th>\n",
       "      <td>c-4</td>\n",
       "      <td>c-20</td>\n",
       "      <td>c-3</td>\n",
       "      <td>1548</td>\n",
       "      <td>US</td>\n",
       "      <td>PIT</td>\n",
       "      <td>MCO</td>\n",
       "      <td>834</td>\n",
       "      <td>N</td>\n",
       "    </tr>\n",
       "    <tr>\n",
       "      <th>2</th>\n",
       "      <td>c-9</td>\n",
       "      <td>c-2</td>\n",
       "      <td>c-5</td>\n",
       "      <td>1422</td>\n",
       "      <td>XE</td>\n",
       "      <td>RDU</td>\n",
       "      <td>CLE</td>\n",
       "      <td>416</td>\n",
       "      <td>N</td>\n",
       "    </tr>\n",
       "    <tr>\n",
       "      <th>3</th>\n",
       "      <td>c-11</td>\n",
       "      <td>c-25</td>\n",
       "      <td>c-6</td>\n",
       "      <td>1015</td>\n",
       "      <td>OO</td>\n",
       "      <td>DEN</td>\n",
       "      <td>MEM</td>\n",
       "      <td>872</td>\n",
       "      <td>N</td>\n",
       "    </tr>\n",
       "    <tr>\n",
       "      <th>4</th>\n",
       "      <td>c-10</td>\n",
       "      <td>c-7</td>\n",
       "      <td>c-6</td>\n",
       "      <td>1828</td>\n",
       "      <td>WN</td>\n",
       "      <td>MDW</td>\n",
       "      <td>OMA</td>\n",
       "      <td>423</td>\n",
       "      <td>Y</td>\n",
       "    </tr>\n",
       "  </tbody>\n",
       "</table>\n",
       "</div>"
      ],
      "text/plain": [
       "  Month DayofMonth DayOfWeek  DepTime UniqueCarrier Origin Dest  Distance  \\\n",
       "0   c-8       c-21       c-7     1934            AA    ATL  DFW       732   \n",
       "1   c-4       c-20       c-3     1548            US    PIT  MCO       834   \n",
       "2   c-9        c-2       c-5     1422            XE    RDU  CLE       416   \n",
       "3  c-11       c-25       c-6     1015            OO    DEN  MEM       872   \n",
       "4  c-10        c-7       c-6     1828            WN    MDW  OMA       423   \n",
       "\n",
       "  dep_delayed_15min  \n",
       "0                 N  \n",
       "1                 N  \n",
       "2                 N  \n",
       "3                 N  \n",
       "4                 Y  "
      ]
     },
     "execution_count": 30,
     "metadata": {},
     "output_type": "execute_result"
    }
   ],
   "source": [
    "df.head()"
   ]
  },
  {
   "cell_type": "markdown",
   "id": "fae4682b-5059-48aa-87bd-6b96984423dd",
   "metadata": {},
   "source": [
    "### 1.\tCalculate the mean, median, and standard deviation for the \"DepTime\" column. What insights can you draw from these measures?"
   ]
  },
  {
   "cell_type": "code",
   "execution_count": 45,
   "id": "e96af18f-cdcc-4a79-94a6-792319ad200f",
   "metadata": {},
   "outputs": [
    {
     "data": {
      "text/plain": [
       "1341.52388"
      ]
     },
     "execution_count": 45,
     "metadata": {},
     "output_type": "execute_result"
    }
   ],
   "source": [
    "x = df[\"DepTime\"].mean()\n",
    "x"
   ]
  },
  {
   "cell_type": "code",
   "execution_count": 46,
   "id": "2294d7fb-c538-4acd-99c3-90f533a703f1",
   "metadata": {},
   "outputs": [
    {
     "data": {
      "text/plain": [
       "1330.0"
      ]
     },
     "execution_count": 46,
     "metadata": {},
     "output_type": "execute_result"
    }
   ],
   "source": [
    "y = df[\"DepTime\"].median()\n",
    "y"
   ]
  },
  {
   "cell_type": "code",
   "execution_count": 44,
   "id": "30bfb95f-8231-4195-a023-41da2879111d",
   "metadata": {},
   "outputs": [
    {
     "data": {
      "text/plain": [
       "476.37844461517204"
      ]
     },
     "execution_count": 44,
     "metadata": {},
     "output_type": "execute_result"
    }
   ],
   "source": [
    "df[\"DepTime\"].std()"
   ]
  },
  {
   "cell_type": "code",
   "execution_count": 52,
   "id": "c2d9d3a5-b257-4300-9149-21d0e866fd8a",
   "metadata": {},
   "outputs": [
    {
     "data": {
      "text/plain": [
       "<Axes: >"
      ]
     },
     "execution_count": 52,
     "metadata": {},
     "output_type": "execute_result"
    },
    {
     "data": {
      "image/png": "[encoded data removed]",
      "text/plain": [
       "<Figure size 640x480 with 1 Axes>"
      ]
     },
     "metadata": {},
     "output_type": "display_data"
    }
   ],
   "source": [
    "sns.barplot(df)"
   ]
  },
  {
   "cell_type": "markdown",
   "id": "17248c84-e7d4-471f-a047-dcbb7010be4c",
   "metadata": {},
   "source": [
    "### 2.\tFind the distribution of flights across different \"UniqueCarrier.\" Which carrier has the highest number of flights?"
   ]
  },
  {
   "cell_type": "code",
   "execution_count": 58,
   "id": "6c214f7e-da10-4657-a5ac-088f7bd0fd15",
   "metadata": {},
   "outputs": [
    {
     "data": {
      "text/plain": [
       "UniqueCarrier\n",
       "WN    15080\n",
       "AA     9418\n",
       "DL     8128\n",
       "MQ     7442\n",
       "OO     7390\n",
       "UA     6876\n",
       "US     6482\n",
       "NW     6402\n",
       "XE     5901\n",
       "OH     4594\n",
       "CO     4334\n",
       "EV     3930\n",
       "FL     3039\n",
       "AS     2222\n",
       "YV     2128\n",
       "B6     1838\n",
       "HP     1378\n",
       "F9     1006\n",
       "DH      966\n",
       "HA      762\n",
       "TZ      446\n",
       "AQ      234\n",
       "Name: count, dtype: int64"
      ]
     },
     "execution_count": 58,
     "metadata": {},
     "output_type": "execute_result"
    }
   ],
   "source": [
    "df[\"UniqueCarrier\"].value_counts()"
   ]
  },
  {
   "cell_type": "code",
   "execution_count": 63,
   "id": "c432b602-10c2-487f-bfbd-8619c214594a",
   "metadata": {},
   "outputs": [
    {
     "data": {
      "text/plain": [
       "array(['AA', 'US', 'XE', 'OO', 'WN', 'NW', 'DL', 'OH', 'AS', 'UA', 'MQ',\n",
       "       'CO', 'EV', 'DH', 'YV', 'F9', 'AQ', 'TZ', 'HP', 'B6', 'FL', 'HA',\n",
       "       nan], dtype=object)"
      ]
     },
     "execution_count": 63,
     "metadata": {},
     "output_type": "execute_result"
    }
   ],
   "source": [
    "df[\"UniqueCarrier\"].unique()"
   ]
  },
  {
   "cell_type": "markdown",
   "id": "fe2bc977-a28d-41d9-92de-502793046f2f",
   "metadata": {},
   "source": [
    "### 3.\tAnalyze the frequency distribution of flights across different \"DayOfWeek.\" Which day of the week has the highest number of flights?"
   ]
  },
  {
   "cell_type": "code",
   "execution_count": 65,
   "id": "1070d1d9-80ef-44fd-8aae-a916623f98b9",
   "metadata": {},
   "outputs": [
    {
     "data": {
      "text/plain": [
       "DayOfWeek\n",
       "c-4    14736\n",
       "c-5    14657\n",
       "c-2    14604\n",
       "c-1    14569\n",
       "c-3    14508\n",
       "c-7    14097\n",
       "c-6    12829\n",
       "Name: count, dtype: int64"
      ]
     },
     "execution_count": 65,
     "metadata": {},
     "output_type": "execute_result"
    }
   ],
   "source": [
    "df['DayOfWeek'].value_counts()"
   ]
  },
  {
   "cell_type": "markdown",
   "id": "2928be4e-ae54-4590-9af5-5dee3c09ffa9",
   "metadata": {},
   "source": [
    "### 4.\tHow many unique \"Origin\" and \"Dest\" airports are present in the dataset?"
   ]
  },
  {
   "cell_type": "code",
   "execution_count": 69,
   "id": "f229d10d-c2e4-4b44-96e7-d08e4954d041",
   "metadata": {},
   "outputs": [
    {
     "data": {
      "text/plain": [
       "Origin\n",
       "ATL    5834\n",
       "ORD    4870\n",
       "DFW    4270\n",
       "LAX    3258\n",
       "IAH    3048\n",
       "       ... \n",
       "VIS       1\n",
       "WYS       1\n",
       "ILG       1\n",
       "VCT       1\n",
       "ADK       1\n",
       "Name: count, Length: 289, dtype: int64"
      ]
     },
     "execution_count": 69,
     "metadata": {},
     "output_type": "execute_result"
    }
   ],
   "source": [
    "df['Origin'].value_counts()"
   ]
  },
  {
   "cell_type": "code",
   "execution_count": 66,
   "id": "72474e37-abcf-4138-9b79-04842bdd3ad0",
   "metadata": {},
   "outputs": [
    {
     "data": {
      "text/plain": [
       "array(['ATL', 'PIT', 'RDU', 'DEN', 'MDW', 'MEM', 'PBI', 'MSP', 'ONT',\n",
       "       'BDL', 'PHX', 'LAS', 'DFW', 'DSM', 'CMH', 'ORF', 'SLC', 'CLT',\n",
       "       'GSO', 'IAD', 'SMF', 'FLL', 'DAL', 'ORD', 'ITO', 'SAN', 'ROA',\n",
       "       'LGA', 'SFO', 'GSP', 'SEA', 'DAB', 'SJC', 'LIT', 'LAX', 'OAK',\n",
       "       'COS', 'OKC', 'GRR', 'JFK', 'BOI', 'MCI', 'BWI', 'BHM', 'CRP',\n",
       "       'BOS', 'SAT', 'PHL', 'STL', 'CIC', 'AUS', 'IAH', 'COD', 'HNL',\n",
       "       'RNO', 'BNA', 'TPA', 'MIA', 'EVV', 'PNS', 'EWR', 'RSW', 'ANC',\n",
       "       'SNA', 'AMA', 'CID', 'DTW', 'DCA', 'LGB', 'MAF', 'MFE', 'BMI',\n",
       "       'PDX', 'IPL', 'GRB', 'FAR', 'HOU', 'MTJ', 'DRO', 'MLU', 'VPS',\n",
       "       'TUL', 'CVG', 'SBA', 'PWM', 'IDA', 'MCO', 'ACV', 'CHS', 'BGM',\n",
       "       'MSY', 'OGG', 'CLE', 'MOB', 'CAK', 'FAY', 'SHV', 'TUS', 'IND',\n",
       "       'CAE', 'PVD', 'ROC', 'MFR', 'VLD', 'ELP', 'RIC', 'MKE', 'SGF',\n",
       "       'TYS', nan, 'CHO', 'EGE', 'BIS', 'JAN', 'JAX', 'BUF', 'MSO', 'BGR',\n",
       "       'CEC', 'ICT', 'MYR', 'ALB', 'LIH', 'SBP', 'AEX', 'GNV', 'SAV',\n",
       "       'BTM', 'BRO', 'SJU', 'XNA', 'CPR', 'SDF', 'JAC', 'AVL', 'PHF',\n",
       "       'GPT', 'SYR', 'PSP', 'MHT', 'MRY', 'CLD', 'FAT', 'MSN', 'ISP',\n",
       "       'BUR', 'PSC', 'MEI', 'LEX', 'LBB', 'GEG', 'LFT', 'OMA', 'ISO',\n",
       "       'MGM', 'GRK', 'AVP', 'ABQ', 'SRQ', 'BTV', 'FLG', 'BTR', 'MDT',\n",
       "       'ABI', 'TRI', 'ADQ', 'FSM', 'SMX', 'RST', 'RAP', 'ILM', 'SIT',\n",
       "       'EKO', 'DBQ', 'CHA', 'BQK', 'BZN', 'MOD', 'MOT', 'MLB', 'TVC',\n",
       "       'LAN', 'DAY', 'HSV', 'EUG', 'SGU', 'ACT', 'AGS', 'CLL', 'HLN',\n",
       "       'LNK', 'ASE', 'HRL', 'ATW', 'CMI', 'LWS', 'DHN', 'FNT', 'FLO',\n",
       "       'RDM', 'TYR', 'KOA', 'FAI', 'OME', 'RDD', 'MCN', 'TLH', 'MQT',\n",
       "       'AZO', 'FCA', 'CRW', 'TOL', 'HPN', 'FSD', 'FWA', 'SUN', 'LAW',\n",
       "       'YUM', 'PIA', 'GTF', 'ACY', 'PIH', 'SPS', 'MLI', 'BIL', 'TWF',\n",
       "       'HTS', 'SBN', 'PFN', 'GJT', 'CSG', 'JNU', 'TXK', 'LRD', 'BQN',\n",
       "       'CWA', 'SWF', 'GTR', 'BFL', 'OXR', 'KTN', 'PIE', 'SCE', 'PSG',\n",
       "       'DLH', 'SJT', 'GUC', 'SPI', 'IYK', 'ABY', 'STT', 'ABE', 'GFK',\n",
       "       'HDN', 'CDV', 'MBS', 'TUP', 'LCH', 'EYW', 'OTZ', 'ADK', 'GGG',\n",
       "       'VIS', 'GST', 'LYH', 'HVN', 'BRW', 'LSE', 'ERI', 'HKY', 'BET',\n",
       "       'CDC', 'OAJ', 'WRG', 'ACK', 'DLG', 'YAK', 'AKN', 'TEX', 'STX',\n",
       "       'SCC', 'APF', 'BPT', 'WYS', 'RFD', 'BLI', 'ILG', 'VCT', 'LWB',\n",
       "       'PSE'], dtype=object)"
      ]
     },
     "execution_count": 66,
     "metadata": {},
     "output_type": "execute_result"
    }
   ],
   "source": [
    "df['Origin'].unique()"
   ]
  },
  {
   "cell_type": "code",
   "execution_count": 70,
   "id": "8f190023-a1fe-4c60-86c8-af63f94f523b",
   "metadata": {},
   "outputs": [
    {
     "data": {
      "text/plain": [
       "Dest\n",
       "ATL    5795\n",
       "ORD    4933\n",
       "DFW    4337\n",
       "LAX    3205\n",
       "IAH    3056\n",
       "       ... \n",
       "LWB       1\n",
       "TEX       1\n",
       "ACK       1\n",
       "TTN       1\n",
       "VCT       1\n",
       "Name: count, Length: 289, dtype: int64"
      ]
     },
     "execution_count": 70,
     "metadata": {},
     "output_type": "execute_result"
    }
   ],
   "source": [
    "df['Dest'].value_counts()"
   ]
  },
  {
   "cell_type": "code",
   "execution_count": 67,
   "id": "b2a953b4-d19e-4410-9012-d59555df9d1a",
   "metadata": {},
   "outputs": [
    {
     "data": {
      "text/plain": [
       "array(['DFW', 'MCO', 'CLE', 'MEM', 'OMA', 'LGA', 'CVG', 'PSC', 'STL',\n",
       "       'SEA', 'SJC', 'ORD', 'IAH', 'ATL', 'CMH', 'ILM', 'MSP', 'PHX',\n",
       "       'AUS', 'SYR', 'LAX', 'HNL', 'ORF', 'MYR', 'PDX', 'CHS', 'SMF',\n",
       "       'DTW', 'SNA', 'PHL', 'IAD', 'LAS', 'OGG', 'ABI', 'SLC', 'EWR',\n",
       "       'PVD', 'SFO', 'RDU', 'MDW', 'DAL', 'SAT', 'RNO', 'JAX', 'HRL',\n",
       "       'JAN', 'ISP', 'TPA', 'JFK', 'FCA', 'PIT', 'CLT', 'BUF', 'OKC',\n",
       "       'ANC', 'SAN', 'BET', 'FLL', 'SBA', 'GJT', 'DEN', 'MIA', 'BZN',\n",
       "       'FWA', 'BDL', 'BOI', 'GSO', 'GSP', 'OAK', 'LAN', 'YUM', 'MKE',\n",
       "       'MQT', 'ONT', 'ELP', 'LBB', 'PBI', 'SJU', 'ACY', 'CAK', 'ABQ',\n",
       "       'KOA', 'BNA', 'IDA', 'EVV', 'LEX', 'ITO', 'SBP', 'BOS', 'KTN',\n",
       "       'SGF', 'HOU', 'ALB', 'TUL', 'ABE', 'AMA', 'LIT', 'IND', 'ROA',\n",
       "       'ROC', 'SAV', 'TOL', 'FAT', 'MCI', 'MSN', nan, 'DCA', 'GRR', 'BUR',\n",
       "       'AVL', 'MLU', 'ACV', 'RIC', 'COS', 'DAY', 'GRB', 'CRP', 'FNT',\n",
       "       'ICT', 'TLH', 'XNA', 'CRW', 'GEG', 'HPN', 'VPS', 'CMI', 'LNK',\n",
       "       'EYW', 'BWI', 'MAF', 'HSV', 'TUS', 'PSP', 'SHV', 'MSY', 'LIH',\n",
       "       'FAR', 'EUG', 'SDF', 'MHT', 'DSM', 'FLO', 'ISO', 'MFE', 'RDD',\n",
       "       'BHM', 'BMI', 'FSD', 'RSW', 'FAY', 'CAE', 'MTJ', 'LWB', 'CLD',\n",
       "       'RAP', 'PWM', 'GPT', 'TYS', 'SRQ', 'MBS', 'AVP', 'AZO', 'CEC',\n",
       "       'MFR', 'DAB', 'TUP', 'CID', 'PNS', 'JNU', 'GNV', 'MRY', 'SGU',\n",
       "       'MOB', 'PHF', 'LAW', 'MEI', 'LFT', 'EGE', 'GUC', 'TRI', 'LGB',\n",
       "       'BIL', 'CSG', 'SCE', 'GTF', 'BFL', 'FAI', 'EKO', 'DRO', 'BQK',\n",
       "       'TVC', 'MDT', 'CLL', 'HTS', 'LSE', 'MSO', 'JAC', 'RDM', 'MLI',\n",
       "       'MOD', 'CPR', 'VLD', 'BTR', 'CHA', 'STT', 'MOT', 'BTV', 'SPS',\n",
       "       'PIH', 'PIA', 'LWS', 'SMX', 'BGR', 'SJT', 'STX', 'VIS', 'HDN',\n",
       "       'ACT', 'GRK', 'BRO', 'FSM', 'LCH', 'DBQ', 'DHN', 'MLB', 'IPL',\n",
       "       'PFN', 'GGG', 'SBN', 'OXR', 'IYK', 'LRD', 'TWF', 'PSG', 'RST',\n",
       "       'BQN', 'BPT', 'AEX', 'ERI', 'CIC', 'MGM', 'CDC', 'PIE', 'BIS',\n",
       "       'SWF', 'DLG', 'SUN', 'COD', 'ASE', 'ATW', 'OME', 'GTR', 'CHO',\n",
       "       'GFK', 'BLI', 'ABY', 'TXK', 'APF', 'DLH', 'TYR', 'LYH', 'SPI',\n",
       "       'HLN', 'YAK', 'CWA', 'MCN', 'ILG', 'AKN', 'SIT', 'FLG', 'HVN',\n",
       "       'BRW', 'BTM', 'BGM', 'OTZ', 'SCC', 'CDV', 'WRG', 'AGS', 'HKY',\n",
       "       'RFD', 'SOP', 'WYS', 'PSE', 'ADQ', 'GST', 'TEX', 'ACK', 'TTN',\n",
       "       'VCT'], dtype=object)"
      ]
     },
     "execution_count": 67,
     "metadata": {},
     "output_type": "execute_result"
    }
   ],
   "source": [
    "df['Dest'].unique()"
   ]
  },
  {
   "cell_type": "markdown",
   "id": "8314c4e9-79a0-4b85-ae11-798b682e80e6",
   "metadata": {},
   "source": [
    "### 5.\tIs there any relationship between the \"Distance\" and whether a flight is delayed? Use correlation or scatter plots to support your analysis."
   ]
  },
  {
   "cell_type": "code",
   "execution_count": 96,
   "id": "ab14135f-306e-4d9b-a223-7d4a3dc085a2",
   "metadata": {},
   "outputs": [
    {
     "data": {
      "text/plain": [
       "<Axes: xlabel='Distance', ylabel='Count'>"
      ]
     },
     "execution_count": 96,
     "metadata": {},
     "output_type": "execute_result"
    },
    {
     "data": {
      "image/png": "[encoded data removed]",
      "text/plain": [
       "<Figure size 640x480 with 1 Axes>"
      ]
     },
     "metadata": {},
     "output_type": "display_data"
    }
   ],
   "source": [
    "sns.histplot(df['Distance'],binwidth=None)"
   ]
  },
  {
   "cell_type": "code",
   "execution_count": 132,
   "id": "febd32cf-852e-4a3b-8e84-0895ffe42786",
   "metadata": {},
   "outputs": [
    {
     "ename": "ValueError",
     "evalue": "could not convert string to float: 'c-8'",
     "output_type": "error",
     "traceback": [
      "\u001b[1;31m---------------------------------------------------------------------------\u001b[0m",
      "\u001b[1;31mValueError\u001b[0m                                Traceback (most recent call last)",
      "Cell \u001b[1;32mIn[132], line 1\u001b[0m\n\u001b[1;32m----> 1\u001b[0m sns\u001b[38;5;241m.\u001b[39mheatmap(data\u001b[38;5;241m=\u001b[39m\u001b[43mdf\u001b[49m\u001b[38;5;241;43m.\u001b[39;49m\u001b[43mcorr\u001b[49m\u001b[43m(\u001b[49m\u001b[43m)\u001b[49m)\n",
      "File \u001b[1;32mC:\\Program Files\\Python312\\Lib\\site-packages\\pandas\\core\\frame.py:11022\u001b[0m, in \u001b[0;36mDataFrame.corr\u001b[1;34m(self, method, min_periods, numeric_only)\u001b[0m\n\u001b[0;32m  11020\u001b[0m cols \u001b[38;5;241m=\u001b[39m data\u001b[38;5;241m.\u001b[39mcolumns\n\u001b[0;32m  11021\u001b[0m idx \u001b[38;5;241m=\u001b[39m cols\u001b[38;5;241m.\u001b[39mcopy()\n\u001b[1;32m> 11022\u001b[0m mat \u001b[38;5;241m=\u001b[39m \u001b[43mdata\u001b[49m\u001b[38;5;241;43m.\u001b[39;49m\u001b[43mto_numpy\u001b[49m\u001b[43m(\u001b[49m\u001b[43mdtype\u001b[49m\u001b[38;5;241;43m=\u001b[39;49m\u001b[38;5;28;43mfloat\u001b[39;49m\u001b[43m,\u001b[49m\u001b[43m \u001b[49m\u001b[43mna_value\u001b[49m\u001b[38;5;241;43m=\u001b[39;49m\u001b[43mnp\u001b[49m\u001b[38;5;241;43m.\u001b[39;49m\u001b[43mnan\u001b[49m\u001b[43m,\u001b[49m\u001b[43m \u001b[49m\u001b[43mcopy\u001b[49m\u001b[38;5;241;43m=\u001b[39;49m\u001b[38;5;28;43;01mFalse\u001b[39;49;00m\u001b[43m)\u001b[49m\n\u001b[0;32m  11024\u001b[0m \u001b[38;5;28;01mif\u001b[39;00m method \u001b[38;5;241m==\u001b[39m \u001b[38;5;124m\"\u001b[39m\u001b[38;5;124mpearson\u001b[39m\u001b[38;5;124m\"\u001b[39m:\n\u001b[0;32m  11025\u001b[0m     correl \u001b[38;5;241m=\u001b[39m libalgos\u001b[38;5;241m.\u001b[39mnancorr(mat, minp\u001b[38;5;241m=\u001b[39mmin_periods)\n",
      "File \u001b[1;32mC:\\Program Files\\Python312\\Lib\\site-packages\\pandas\\core\\frame.py:1981\u001b[0m, in \u001b[0;36mDataFrame.to_numpy\u001b[1;34m(self, dtype, copy, na_value)\u001b[0m\n\u001b[0;32m   1979\u001b[0m \u001b[38;5;28;01mif\u001b[39;00m dtype \u001b[38;5;129;01mis\u001b[39;00m \u001b[38;5;129;01mnot\u001b[39;00m \u001b[38;5;28;01mNone\u001b[39;00m:\n\u001b[0;32m   1980\u001b[0m     dtype \u001b[38;5;241m=\u001b[39m np\u001b[38;5;241m.\u001b[39mdtype(dtype)\n\u001b[1;32m-> 1981\u001b[0m result \u001b[38;5;241m=\u001b[39m \u001b[38;5;28;43mself\u001b[39;49m\u001b[38;5;241;43m.\u001b[39;49m\u001b[43m_mgr\u001b[49m\u001b[38;5;241;43m.\u001b[39;49m\u001b[43mas_array\u001b[49m\u001b[43m(\u001b[49m\u001b[43mdtype\u001b[49m\u001b[38;5;241;43m=\u001b[39;49m\u001b[43mdtype\u001b[49m\u001b[43m,\u001b[49m\u001b[43m \u001b[49m\u001b[43mcopy\u001b[49m\u001b[38;5;241;43m=\u001b[39;49m\u001b[43mcopy\u001b[49m\u001b[43m,\u001b[49m\u001b[43m \u001b[49m\u001b[43mna_value\u001b[49m\u001b[38;5;241;43m=\u001b[39;49m\u001b[43mna_value\u001b[49m\u001b[43m)\u001b[49m\n\u001b[0;32m   1982\u001b[0m \u001b[38;5;28;01mif\u001b[39;00m result\u001b[38;5;241m.\u001b[39mdtype \u001b[38;5;129;01mis\u001b[39;00m \u001b[38;5;129;01mnot\u001b[39;00m dtype:\n\u001b[0;32m   1983\u001b[0m     result \u001b[38;5;241m=\u001b[39m np\u001b[38;5;241m.\u001b[39marray(result, dtype\u001b[38;5;241m=\u001b[39mdtype, copy\u001b[38;5;241m=\u001b[39m\u001b[38;5;28;01mFalse\u001b[39;00m)\n",
      "File \u001b[1;32mC:\\Program Files\\Python312\\Lib\\site-packages\\pandas\\core\\internals\\managers.py:1693\u001b[0m, in \u001b[0;36mBlockManager.as_array\u001b[1;34m(self, dtype, copy, na_value)\u001b[0m\n\u001b[0;32m   1691\u001b[0m         arr\u001b[38;5;241m.\u001b[39mflags\u001b[38;5;241m.\u001b[39mwriteable \u001b[38;5;241m=\u001b[39m \u001b[38;5;28;01mFalse\u001b[39;00m\n\u001b[0;32m   1692\u001b[0m \u001b[38;5;28;01melse\u001b[39;00m:\n\u001b[1;32m-> 1693\u001b[0m     arr \u001b[38;5;241m=\u001b[39m \u001b[38;5;28;43mself\u001b[39;49m\u001b[38;5;241;43m.\u001b[39;49m\u001b[43m_interleave\u001b[49m\u001b[43m(\u001b[49m\u001b[43mdtype\u001b[49m\u001b[38;5;241;43m=\u001b[39;49m\u001b[43mdtype\u001b[49m\u001b[43m,\u001b[49m\u001b[43m \u001b[49m\u001b[43mna_value\u001b[49m\u001b[38;5;241;43m=\u001b[39;49m\u001b[43mna_value\u001b[49m\u001b[43m)\u001b[49m\n\u001b[0;32m   1694\u001b[0m     \u001b[38;5;66;03m# The underlying data was copied within _interleave, so no need\u001b[39;00m\n\u001b[0;32m   1695\u001b[0m     \u001b[38;5;66;03m# to further copy if copy=True or setting na_value\u001b[39;00m\n\u001b[0;32m   1697\u001b[0m \u001b[38;5;28;01mif\u001b[39;00m na_value \u001b[38;5;129;01mis\u001b[39;00m lib\u001b[38;5;241m.\u001b[39mno_default:\n",
      "File \u001b[1;32mC:\\Program Files\\Python312\\Lib\\site-packages\\pandas\\core\\internals\\managers.py:1752\u001b[0m, in \u001b[0;36mBlockManager._interleave\u001b[1;34m(self, dtype, na_value)\u001b[0m\n\u001b[0;32m   1750\u001b[0m     \u001b[38;5;28;01melse\u001b[39;00m:\n\u001b[0;32m   1751\u001b[0m         arr \u001b[38;5;241m=\u001b[39m blk\u001b[38;5;241m.\u001b[39mget_values(dtype)\n\u001b[1;32m-> 1752\u001b[0m     \u001b[43mresult\u001b[49m\u001b[43m[\u001b[49m\u001b[43mrl\u001b[49m\u001b[38;5;241;43m.\u001b[39;49m\u001b[43mindexer\u001b[49m\u001b[43m]\u001b[49m \u001b[38;5;241m=\u001b[39m arr\n\u001b[0;32m   1753\u001b[0m     itemmask[rl\u001b[38;5;241m.\u001b[39mindexer] \u001b[38;5;241m=\u001b[39m \u001b[38;5;241m1\u001b[39m\n\u001b[0;32m   1755\u001b[0m \u001b[38;5;28;01mif\u001b[39;00m \u001b[38;5;129;01mnot\u001b[39;00m itemmask\u001b[38;5;241m.\u001b[39mall():\n",
      "\u001b[1;31mValueError\u001b[0m: could not convert string to float: 'c-8'"
     ]
    }
   ],
   "source": [
    "sns.heatmap(data=df.corr())"
   ]
  },
  {
   "cell_type": "markdown",
   "id": "8a07759a-44e3-4af0-af02-48d4e3847c39",
   "metadata": {},
   "source": [
    "### 6.\tAre longer-distance flights more or less likely to be delayed?"
   ]
  },
  {
   "cell_type": "code",
   "execution_count": 133,
   "id": "64b70160-92d0-4425-8d72-cec718ca333d",
   "metadata": {},
   "outputs": [
    {
     "data": {
      "text/plain": [
       "<Axes: xlabel='dep_delayed_15min', ylabel='Count'>"
      ]
     },
     "execution_count": 133,
     "metadata": {},
     "output_type": "execute_result"
    },
    {
     "data": {
      "image/png": "[encoded data removed]",
      "text/plain": [
       "<Figure size 640x480 with 1 Axes>"
      ]
     },
     "metadata": {},
     "output_type": "display_data"
    }
   ],
   "source": [
    "sns.histplot(df['dep_delayed_15min'],color='red')"
   ]
  },
  {
   "cell_type": "markdown",
   "id": "7a728ac7-456e-4333-9588-f7f9633bd5ef",
   "metadata": {},
   "source": [
    "### 7.\tGroup the data by time intervals (e.g., morning, afternoon, evening, night) based on \"DepTime.\" Analyze if certain times of the day have more frequent delays."
   ]
  },
  {
   "cell_type": "code",
   "execution_count": 119,
   "id": "15b6c4ba-3d90-4a9b-abd2-6a89cb8241e8",
   "metadata": {},
   "outputs": [
    {
     "data": {
      "text/plain": [
       "<Axes: xlabel='DayOfWeek', ylabel='Count'>"
      ]
     },
     "execution_count": 119,
     "metadata": {},
     "output_type": "execute_result"
    },
    {
     "data": {
      "image/png": "[encoded data removed]",
      "text/plain": [
       "<Figure size 640x480 with 1 Axes>"
      ]
     },
     "metadata": {},
     "output_type": "display_data"
    }
   ],
   "source": [
    "sns.histplot(df['DayOfWeek'],bins=['morning','evening','afternoon','night'])"
   ]
  },
  {
   "cell_type": "markdown",
   "id": "52b49856-98cd-4b23-9cce-96e8b3e78c25",
   "metadata": {},
   "source": [
    "### 8.\tInvestigate whether there is a pattern in departure times for flights that were delayed (\"dep_delayed_15min\" = 'Y') compared to those that were not."
   ]
  },
  {
   "cell_type": "code",
   "execution_count": 126,
   "id": "e5c78e68-3cc8-4f0c-b8a2-6e515e0e9f41",
   "metadata": {},
   "outputs": [
    {
     "data": {
      "text/plain": [
       "<Axes: xlabel='dep_delayed_15min', ylabel='Count'>"
      ]
     },
     "execution_count": 126,
     "metadata": {},
     "output_type": "execute_result"
    },
    {
     "data": {
      "image/png": "[encoded data removed]",
      "text/plain": [
       "<Figure size 640x480 with 1 Axes>"
      ]
     },
     "metadata": {},
     "output_type": "display_data"
    }
   ],
   "source": [
    "sns.histplot(df['dep_delayed_15min'])"
   ]
  },
  {
   "cell_type": "markdown",
   "id": "440d92b6-87f1-4a0c-98b7-c559753cb0d9",
   "metadata": {},
   "source": [
    "### 9.\tCreate a bar chart to show the number of flights per carrier. What patterns or trends do you notice?"
   ]
  },
  {
   "cell_type": "code",
   "execution_count": 134,
   "id": "07ba3adc-deb8-4842-b2c8-06b30aab89fb",
   "metadata": {},
   "outputs": [
    {
     "data": {
      "text/plain": [
       "<Axes: ylabel='UniqueCarrier'>"
      ]
     },
     "execution_count": 134,
     "metadata": {},
     "output_type": "execute_result"
    },
    {
     "data": {
      "image/png": "[encoded data removed]",
      "text/plain": [
       "<Figure size 640x480 with 1 Axes>"
      ]
     },
     "metadata": {},
     "output_type": "display_data"
    }
   ],
   "source": [
    "sns.barplot(df['UniqueCarrier'])"
   ]
  },
  {
   "cell_type": "markdown",
   "id": "831c1f64-166b-4b9f-8784-2874831d919b",
   "metadata": {},
   "source": [
    "### 10.\tUse a heatmap to show the relationship between \"DayOfWeek\" and \"Month\" with the number of delayed flights. What insights can you derive?"
   ]
  },
  {
   "cell_type": "code",
   "execution_count": 264,
   "id": "f9a40496-ab00-41f1-8b6d-b91709c3aa40",
   "metadata": {},
   "outputs": [
    {
     "ename": "NameError",
     "evalue": "name 'delay_counts' is not defined",
     "output_type": "error",
     "traceback": [
      "\u001b[1;31m---------------------------------------------------------------------------\u001b[0m",
      "\u001b[1;31mNameError\u001b[0m                                 Traceback (most recent call last)",
      "Cell \u001b[1;32mIn[264], line 2\u001b[0m\n\u001b[0;32m      1\u001b[0m plt\u001b[38;5;241m.\u001b[39mfigure(figsize\u001b[38;5;241m=\u001b[39m(\u001b[38;5;241m10\u001b[39m, \u001b[38;5;241m8\u001b[39m))\n\u001b[1;32m----> 2\u001b[0m sns\u001b[38;5;241m.\u001b[39mheatmap(\u001b[43mdelay_counts\u001b[49m, annot\u001b[38;5;241m=\u001b[39m\u001b[38;5;28;01mTrue\u001b[39;00m, fmt\u001b[38;5;241m=\u001b[39m\u001b[38;5;124m\"\u001b[39m\u001b[38;5;124md\u001b[39m\u001b[38;5;124m\"\u001b[39m, cmap\u001b[38;5;241m=\u001b[39m\u001b[38;5;124m\"\u001b[39m\u001b[38;5;124mYlGnBu\u001b[39m\u001b[38;5;124m\"\u001b[39m, cbar_kws\u001b[38;5;241m=\u001b[39m{\u001b[38;5;124m'\u001b[39m\u001b[38;5;124mlabel\u001b[39m\u001b[38;5;124m'\u001b[39m: \u001b[38;5;124m'\u001b[39m\u001b[38;5;124mNumber of Delayed Flights\u001b[39m\u001b[38;5;124m'\u001b[39m})\n\u001b[0;32m      3\u001b[0m plt\u001b[38;5;241m.\u001b[39mtitle(\u001b[38;5;124m'\u001b[39m\u001b[38;5;124mDelayed Flights by Day of the Week and Month\u001b[39m\u001b[38;5;124m'\u001b[39m)\n\u001b[0;32m      4\u001b[0m plt\u001b[38;5;241m.\u001b[39mxlabel(\u001b[38;5;124m'\u001b[39m\u001b[38;5;124mMonth\u001b[39m\u001b[38;5;124m'\u001b[39m)\n",
      "\u001b[1;31mNameError\u001b[0m: name 'delay_counts' is not defined"
     ]
    },
    {
     "data": {
      "text/plain": [
       "<Figure size 1000x800 with 0 Axes>"
      ]
     },
     "metadata": {},
     "output_type": "display_data"
    }
   ],
   "source": [
    "plt.figure(figsize=(10, 8))\n",
    "sns.heatmap(delay_counts, annot=True, fmt=\"d\", cmap=\"YlGnBu\", cbar_kws={'label': 'Number of Delayed Flights'})\n",
    "plt.title('Delayed Flights by Day of the Week and Month')\n",
    "plt.xlabel('Month')\n",
    "plt.ylabel('Day of the Week')\n",
    "plt.show()"
   ]
  },
  {
   "cell_type": "markdown",
   "id": "0ccf5bea-162e-42ff-86c0-1d34d95d1c2a",
   "metadata": {},
   "source": [
    "# Question 2 : Beans Dataset"
   ]
  },
  {
   "cell_type": "code",
   "execution_count": 238,
   "id": "0dc80c26-a8bb-41c9-8adc-acb3d0e64c5e",
   "metadata": {},
   "outputs": [],
   "source": [
    "import numpy as np\n",
    "import pandas as pd\n",
    "import matplotlib.pyplot as plt\n",
    "import seaborn as sns"
   ]
  },
  {
   "cell_type": "code",
   "execution_count": 239,
   "id": "8faf143c-5646-4e5a-8087-0e204a09b07c",
   "metadata": {},
   "outputs": [],
   "source": [
    "data = pd.read_excel('Dataset2.xlsx')"
   ]
  },
  {
   "cell_type": "code",
   "execution_count": 240,
   "id": "9e57a233-3cef-41cc-bde4-38c06de20dd7",
   "metadata": {},
   "outputs": [
    {
     "data": {
      "text/html": [
       "<div>\n",
       "<style scoped>\n",
       "    .dataframe tbody tr th:only-of-type {\n",
       "        vertical-align: middle;\n",
       "    }\n",
       "\n",
       "    .dataframe tbody tr th {\n",
       "        vertical-align: top;\n",
       "    }\n",
       "\n",
       "    .dataframe thead th {\n",
       "        text-align: right;\n",
       "    }\n",
       "</style>\n",
       "<table border=\"1\" class=\"dataframe\">\n",
       "  <thead>\n",
       "    <tr style=\"text-align: right;\">\n",
       "      <th></th>\n",
       "      <th>Area</th>\n",
       "      <th>Perimeter</th>\n",
       "      <th>MajorAxisLength</th>\n",
       "      <th>MinorAxisLength</th>\n",
       "      <th>AspectRation</th>\n",
       "      <th>Eccentricity</th>\n",
       "      <th>ConvexArea</th>\n",
       "      <th>EquivDiameter</th>\n",
       "      <th>Extent</th>\n",
       "      <th>Solidity</th>\n",
       "      <th>roundness</th>\n",
       "      <th>Compactness</th>\n",
       "      <th>ShapeFactor1</th>\n",
       "      <th>ShapeFactor2</th>\n",
       "      <th>ShapeFactor3</th>\n",
       "      <th>ShapeFactor4</th>\n",
       "      <th>Class</th>\n",
       "    </tr>\n",
       "  </thead>\n",
       "  <tbody>\n",
       "    <tr>\n",
       "      <th>0</th>\n",
       "      <td>28395</td>\n",
       "      <td>610.291</td>\n",
       "      <td>208.178117</td>\n",
       "      <td>173.888747</td>\n",
       "      <td>1.197191</td>\n",
       "      <td>0.549812</td>\n",
       "      <td>28715.0</td>\n",
       "      <td>190.141097</td>\n",
       "      <td>0.763923</td>\n",
       "      <td>0.988856</td>\n",
       "      <td>0.958027</td>\n",
       "      <td>0.913358</td>\n",
       "      <td>0.007332</td>\n",
       "      <td>0.003147</td>\n",
       "      <td>0.834222</td>\n",
       "      <td>0.998724</td>\n",
       "      <td>SEKER</td>\n",
       "    </tr>\n",
       "    <tr>\n",
       "      <th>1</th>\n",
       "      <td>28734</td>\n",
       "      <td>638.018</td>\n",
       "      <td>200.524796</td>\n",
       "      <td>182.734419</td>\n",
       "      <td>1.097356</td>\n",
       "      <td>0.411785</td>\n",
       "      <td>29172.0</td>\n",
       "      <td>191.272750</td>\n",
       "      <td>0.783968</td>\n",
       "      <td>0.984986</td>\n",
       "      <td>0.887034</td>\n",
       "      <td>0.953861</td>\n",
       "      <td>0.006979</td>\n",
       "      <td>0.003564</td>\n",
       "      <td>0.909851</td>\n",
       "      <td>0.998430</td>\n",
       "      <td>SEKER</td>\n",
       "    </tr>\n",
       "    <tr>\n",
       "      <th>2</th>\n",
       "      <td>29380</td>\n",
       "      <td>624.110</td>\n",
       "      <td>212.826130</td>\n",
       "      <td>175.931143</td>\n",
       "      <td>1.209713</td>\n",
       "      <td>0.562727</td>\n",
       "      <td>29690.0</td>\n",
       "      <td>193.410904</td>\n",
       "      <td>0.778113</td>\n",
       "      <td>0.989559</td>\n",
       "      <td>0.947849</td>\n",
       "      <td>0.908774</td>\n",
       "      <td>0.007244</td>\n",
       "      <td>0.003048</td>\n",
       "      <td>0.825871</td>\n",
       "      <td>0.999066</td>\n",
       "      <td>SEKER</td>\n",
       "    </tr>\n",
       "    <tr>\n",
       "      <th>3</th>\n",
       "      <td>30008</td>\n",
       "      <td>645.884</td>\n",
       "      <td>210.557999</td>\n",
       "      <td>182.516516</td>\n",
       "      <td>1.153638</td>\n",
       "      <td>0.498616</td>\n",
       "      <td>30724.0</td>\n",
       "      <td>195.467062</td>\n",
       "      <td>0.782681</td>\n",
       "      <td>0.976696</td>\n",
       "      <td>0.903936</td>\n",
       "      <td>0.928329</td>\n",
       "      <td>0.007017</td>\n",
       "      <td>0.003215</td>\n",
       "      <td>0.861794</td>\n",
       "      <td>0.994199</td>\n",
       "      <td>SEKER</td>\n",
       "    </tr>\n",
       "    <tr>\n",
       "      <th>4</th>\n",
       "      <td>30140</td>\n",
       "      <td>620.134</td>\n",
       "      <td>201.847882</td>\n",
       "      <td>190.279279</td>\n",
       "      <td>1.060798</td>\n",
       "      <td>0.333680</td>\n",
       "      <td>30417.0</td>\n",
       "      <td>195.896503</td>\n",
       "      <td>0.773098</td>\n",
       "      <td>0.990893</td>\n",
       "      <td>0.984877</td>\n",
       "      <td>0.970516</td>\n",
       "      <td>0.006697</td>\n",
       "      <td>0.003665</td>\n",
       "      <td>0.941900</td>\n",
       "      <td>0.999166</td>\n",
       "      <td>SEKER</td>\n",
       "    </tr>\n",
       "  </tbody>\n",
       "</table>\n",
       "</div>"
      ],
      "text/plain": [
       "    Area  Perimeter  MajorAxisLength  MinorAxisLength  AspectRation  \\\n",
       "0  28395    610.291       208.178117       173.888747      1.197191   \n",
       "1  28734    638.018       200.524796       182.734419      1.097356   \n",
       "2  29380    624.110       212.826130       175.931143      1.209713   \n",
       "3  30008    645.884       210.557999       182.516516      1.153638   \n",
       "4  30140    620.134       201.847882       190.279279      1.060798   \n",
       "\n",
       "   Eccentricity  ConvexArea  EquivDiameter    Extent  Solidity  roundness  \\\n",
       "0      0.549812     28715.0     190.141097  0.763923  0.988856   0.958027   \n",
       "1      0.411785     29172.0     191.272750  0.783968  0.984986   0.887034   \n",
       "2      0.562727     29690.0     193.410904  0.778113  0.989559   0.947849   \n",
       "3      0.498616     30724.0     195.467062  0.782681  0.976696   0.903936   \n",
       "4      0.333680     30417.0     195.896503  0.773098  0.990893   0.984877   \n",
       "\n",
       "   Compactness  ShapeFactor1  ShapeFactor2  ShapeFactor3  ShapeFactor4  Class  \n",
       "0     0.913358      0.007332      0.003147      0.834222      0.998724  SEKER  \n",
       "1     0.953861      0.006979      0.003564      0.909851      0.998430  SEKER  \n",
       "2     0.908774      0.007244      0.003048      0.825871      0.999066  SEKER  \n",
       "3     0.928329      0.007017      0.003215      0.861794      0.994199  SEKER  \n",
       "4     0.970516      0.006697      0.003665      0.941900      0.999166  SEKER  "
      ]
     },
     "execution_count": 240,
     "metadata": {},
     "output_type": "execute_result"
    }
   ],
   "source": [
    "data.head()"
   ]
  },
  {
   "cell_type": "markdown",
   "id": "fbf97462-575a-45fd-a125-e3fc323c21ed",
   "metadata": {},
   "source": [
    "### 1.\tData Preprocessing: Describe the steps you would take to preprocess the data before training the model. Include any handling of missing values, normalization, or feature selection you would perform."
   ]
  },
  {
   "cell_type": "markdown",
   "id": "d9f9d49e-8c9d-4807-bc37-e4d26b877ea1",
   "metadata": {},
   "source": [
    "data.info()"
   ]
  },
  {
   "cell_type": "code",
   "execution_count": 241,
   "id": "7b4273b8-2c6e-4a48-8764-9b097b94504b",
   "metadata": {},
   "outputs": [
    {
     "data": {
      "text/plain": [
       "13611"
      ]
     },
     "execution_count": 241,
     "metadata": {},
     "output_type": "execute_result"
    }
   ],
   "source": [
    "data.shape[0]"
   ]
  },
  {
   "cell_type": "code",
   "execution_count": 242,
   "id": "182be929-97e3-4f76-a195-991974032375",
   "metadata": {},
   "outputs": [
    {
     "data": {
      "text/html": [
       "<div>\n",
       "<style scoped>\n",
       "    .dataframe tbody tr th:only-of-type {\n",
       "        vertical-align: middle;\n",
       "    }\n",
       "\n",
       "    .dataframe tbody tr th {\n",
       "        vertical-align: top;\n",
       "    }\n",
       "\n",
       "    .dataframe thead th {\n",
       "        text-align: right;\n",
       "    }\n",
       "</style>\n",
       "<table border=\"1\" class=\"dataframe\">\n",
       "  <thead>\n",
       "    <tr style=\"text-align: right;\">\n",
       "      <th></th>\n",
       "      <th>Area</th>\n",
       "      <th>Perimeter</th>\n",
       "      <th>MajorAxisLength</th>\n",
       "      <th>MinorAxisLength</th>\n",
       "      <th>AspectRation</th>\n",
       "      <th>Eccentricity</th>\n",
       "      <th>ConvexArea</th>\n",
       "      <th>EquivDiameter</th>\n",
       "      <th>Extent</th>\n",
       "      <th>Solidity</th>\n",
       "      <th>roundness</th>\n",
       "      <th>Compactness</th>\n",
       "      <th>ShapeFactor1</th>\n",
       "      <th>ShapeFactor2</th>\n",
       "      <th>ShapeFactor3</th>\n",
       "      <th>ShapeFactor4</th>\n",
       "    </tr>\n",
       "  </thead>\n",
       "  <tbody>\n",
       "    <tr>\n",
       "      <th>count</th>\n",
       "      <td>13611.000000</td>\n",
       "      <td>13611.000000</td>\n",
       "      <td>13606.000000</td>\n",
       "      <td>13609.000000</td>\n",
       "      <td>13608.000000</td>\n",
       "      <td>13608.000000</td>\n",
       "      <td>13610.000000</td>\n",
       "      <td>13611.000000</td>\n",
       "      <td>13608.000000</td>\n",
       "      <td>13610.000000</td>\n",
       "      <td>13608.000000</td>\n",
       "      <td>13609.000000</td>\n",
       "      <td>13609.000000</td>\n",
       "      <td>13611.000000</td>\n",
       "      <td>13611.000000</td>\n",
       "      <td>13611.000000</td>\n",
       "    </tr>\n",
       "    <tr>\n",
       "      <th>mean</th>\n",
       "      <td>53048.284549</td>\n",
       "      <td>855.283459</td>\n",
       "      <td>320.157483</td>\n",
       "      <td>202.271934</td>\n",
       "      <td>1.583306</td>\n",
       "      <td>0.750929</td>\n",
       "      <td>53769.027921</td>\n",
       "      <td>253.064220</td>\n",
       "      <td>0.749727</td>\n",
       "      <td>0.987143</td>\n",
       "      <td>0.873267</td>\n",
       "      <td>0.799845</td>\n",
       "      <td>0.006564</td>\n",
       "      <td>0.001716</td>\n",
       "      <td>0.643590</td>\n",
       "      <td>0.995063</td>\n",
       "    </tr>\n",
       "    <tr>\n",
       "      <th>std</th>\n",
       "      <td>29324.095717</td>\n",
       "      <td>214.289696</td>\n",
       "      <td>85.704732</td>\n",
       "      <td>44.973272</td>\n",
       "      <td>0.246650</td>\n",
       "      <td>0.091961</td>\n",
       "      <td>29775.853140</td>\n",
       "      <td>59.177120</td>\n",
       "      <td>0.049089</td>\n",
       "      <td>0.004660</td>\n",
       "      <td>0.059518</td>\n",
       "      <td>0.061695</td>\n",
       "      <td>0.001128</td>\n",
       "      <td>0.000596</td>\n",
       "      <td>0.098996</td>\n",
       "      <td>0.004366</td>\n",
       "    </tr>\n",
       "    <tr>\n",
       "      <th>min</th>\n",
       "      <td>20420.000000</td>\n",
       "      <td>524.736000</td>\n",
       "      <td>183.601165</td>\n",
       "      <td>122.512653</td>\n",
       "      <td>1.024868</td>\n",
       "      <td>0.218951</td>\n",
       "      <td>20684.000000</td>\n",
       "      <td>161.243764</td>\n",
       "      <td>0.555315</td>\n",
       "      <td>0.919246</td>\n",
       "      <td>0.489618</td>\n",
       "      <td>0.640577</td>\n",
       "      <td>0.002778</td>\n",
       "      <td>0.000564</td>\n",
       "      <td>0.410339</td>\n",
       "      <td>0.947687</td>\n",
       "    </tr>\n",
       "    <tr>\n",
       "      <th>25%</th>\n",
       "      <td>36328.000000</td>\n",
       "      <td>703.523500</td>\n",
       "      <td>253.301679</td>\n",
       "      <td>175.842829</td>\n",
       "      <td>1.432357</td>\n",
       "      <td>0.715952</td>\n",
       "      <td>36713.750000</td>\n",
       "      <td>215.068003</td>\n",
       "      <td>0.718631</td>\n",
       "      <td>0.985670</td>\n",
       "      <td>0.832053</td>\n",
       "      <td>0.762449</td>\n",
       "      <td>0.005900</td>\n",
       "      <td>0.001154</td>\n",
       "      <td>0.581359</td>\n",
       "      <td>0.993703</td>\n",
       "    </tr>\n",
       "    <tr>\n",
       "      <th>50%</th>\n",
       "      <td>44652.000000</td>\n",
       "      <td>794.941000</td>\n",
       "      <td>296.909450</td>\n",
       "      <td>192.431733</td>\n",
       "      <td>1.551132</td>\n",
       "      <td>0.764444</td>\n",
       "      <td>45189.000000</td>\n",
       "      <td>238.438026</td>\n",
       "      <td>0.759830</td>\n",
       "      <td>0.988283</td>\n",
       "      <td>0.883132</td>\n",
       "      <td>0.801243</td>\n",
       "      <td>0.006645</td>\n",
       "      <td>0.001694</td>\n",
       "      <td>0.642044</td>\n",
       "      <td>0.996386</td>\n",
       "    </tr>\n",
       "    <tr>\n",
       "      <th>75%</th>\n",
       "      <td>61332.000000</td>\n",
       "      <td>977.213000</td>\n",
       "      <td>376.507661</td>\n",
       "      <td>217.033886</td>\n",
       "      <td>1.707187</td>\n",
       "      <td>0.810485</td>\n",
       "      <td>62298.500000</td>\n",
       "      <td>279.446467</td>\n",
       "      <td>0.786851</td>\n",
       "      <td>0.990013</td>\n",
       "      <td>0.916853</td>\n",
       "      <td>0.834244</td>\n",
       "      <td>0.007272</td>\n",
       "      <td>0.002170</td>\n",
       "      <td>0.696006</td>\n",
       "      <td>0.997883</td>\n",
       "    </tr>\n",
       "    <tr>\n",
       "      <th>max</th>\n",
       "      <td>254616.000000</td>\n",
       "      <td>1985.370000</td>\n",
       "      <td>738.860153</td>\n",
       "      <td>460.198497</td>\n",
       "      <td>2.430306</td>\n",
       "      <td>0.911423</td>\n",
       "      <td>263261.000000</td>\n",
       "      <td>569.374358</td>\n",
       "      <td>0.866195</td>\n",
       "      <td>0.994677</td>\n",
       "      <td>0.990685</td>\n",
       "      <td>0.987303</td>\n",
       "      <td>0.010451</td>\n",
       "      <td>0.003665</td>\n",
       "      <td>0.974767</td>\n",
       "      <td>0.999733</td>\n",
       "    </tr>\n",
       "  </tbody>\n",
       "</table>\n",
       "</div>"
      ],
      "text/plain": [
       "                Area     Perimeter  MajorAxisLength  MinorAxisLength  \\\n",
       "count   13611.000000  13611.000000     13606.000000     13609.000000   \n",
       "mean    53048.284549    855.283459       320.157483       202.271934   \n",
       "std     29324.095717    214.289696        85.704732        44.973272   \n",
       "min     20420.000000    524.736000       183.601165       122.512653   \n",
       "25%     36328.000000    703.523500       253.301679       175.842829   \n",
       "50%     44652.000000    794.941000       296.909450       192.431733   \n",
       "75%     61332.000000    977.213000       376.507661       217.033886   \n",
       "max    254616.000000   1985.370000       738.860153       460.198497   \n",
       "\n",
       "       AspectRation  Eccentricity     ConvexArea  EquivDiameter        Extent  \\\n",
       "count  13608.000000  13608.000000   13610.000000   13611.000000  13608.000000   \n",
       "mean       1.583306      0.750929   53769.027921     253.064220      0.749727   \n",
       "std        0.246650      0.091961   29775.853140      59.177120      0.049089   \n",
       "min        1.024868      0.218951   20684.000000     161.243764      0.555315   \n",
       "25%        1.432357      0.715952   36713.750000     215.068003      0.718631   \n",
       "50%        1.551132      0.764444   45189.000000     238.438026      0.759830   \n",
       "75%        1.707187      0.810485   62298.500000     279.446467      0.786851   \n",
       "max        2.430306      0.911423  263261.000000     569.374358      0.866195   \n",
       "\n",
       "           Solidity     roundness   Compactness  ShapeFactor1  ShapeFactor2  \\\n",
       "count  13610.000000  13608.000000  13609.000000  13609.000000  13611.000000   \n",
       "mean       0.987143      0.873267      0.799845      0.006564      0.001716   \n",
       "std        0.004660      0.059518      0.061695      0.001128      0.000596   \n",
       "min        0.919246      0.489618      0.640577      0.002778      0.000564   \n",
       "25%        0.985670      0.832053      0.762449      0.005900      0.001154   \n",
       "50%        0.988283      0.883132      0.801243      0.006645      0.001694   \n",
       "75%        0.990013      0.916853      0.834244      0.007272      0.002170   \n",
       "max        0.994677      0.990685      0.987303      0.010451      0.003665   \n",
       "\n",
       "       ShapeFactor3  ShapeFactor4  \n",
       "count  13611.000000  13611.000000  \n",
       "mean       0.643590      0.995063  \n",
       "std        0.098996      0.004366  \n",
       "min        0.410339      0.947687  \n",
       "25%        0.581359      0.993703  \n",
       "50%        0.642044      0.996386  \n",
       "75%        0.696006      0.997883  \n",
       "max        0.974767      0.999733  "
      ]
     },
     "execution_count": 242,
     "metadata": {},
     "output_type": "execute_result"
    }
   ],
   "source": [
    "data.describe()"
   ]
  },
  {
   "cell_type": "code",
   "execution_count": 243,
   "id": "ae8911a0-11dc-4309-b071-95dc4952c1fb",
   "metadata": {},
   "outputs": [
    {
     "data": {
      "text/plain": [
       "Area               0\n",
       "Perimeter          0\n",
       "MajorAxisLength    5\n",
       "MinorAxisLength    2\n",
       "AspectRation       3\n",
       "Eccentricity       3\n",
       "ConvexArea         1\n",
       "EquivDiameter      0\n",
       "Extent             3\n",
       "Solidity           1\n",
       "roundness          3\n",
       "Compactness        2\n",
       "ShapeFactor1       2\n",
       "ShapeFactor2       0\n",
       "ShapeFactor3       0\n",
       "ShapeFactor4       0\n",
       "Class              0\n",
       "dtype: int64"
      ]
     },
     "execution_count": 243,
     "metadata": {},
     "output_type": "execute_result"
    }
   ],
   "source": [
    "data.isnull().sum()    # sum of missing value "
   ]
  },
  {
   "cell_type": "code",
   "execution_count": 244,
   "id": "971933d0-3f69-467f-9dca-075eb2226461",
   "metadata": {},
   "outputs": [],
   "source": [
    "# removing the rows from missing space\n",
    "data.dropna(axis=0,inplace=True)"
   ]
  },
  {
   "cell_type": "code",
   "execution_count": 255,
   "id": "95c421d0-1c18-4888-a051-1c15e385eb32",
   "metadata": {},
   "outputs": [
    {
     "data": {
      "text/plain": [
       "array(['SEKER', 'BARBUNYA', 'BOMBAY', 'CALI', 'HOROZ', 'SIRA', 'DERMASON'],\n",
       "      dtype=object)"
      ]
     },
     "execution_count": 255,
     "metadata": {},
     "output_type": "execute_result"
    }
   ],
   "source": [
    "data['Class'].unique()"
   ]
  },
  {
   "cell_type": "markdown",
   "id": "c8b52236-efb2-4b93-9113-0fa3dc0ad58e",
   "metadata": {},
   "source": [
    "## handling of missing values"
   ]
  },
  {
   "cell_type": "code",
   "execution_count": 245,
   "id": "4b386c6a-fcd7-4671-aa06-49b8ed126b0a",
   "metadata": {},
   "outputs": [
    {
     "data": {
      "text/plain": [
       "Area               0\n",
       "Perimeter          0\n",
       "MajorAxisLength    0\n",
       "MinorAxisLength    0\n",
       "AspectRation       0\n",
       "Eccentricity       0\n",
       "ConvexArea         0\n",
       "EquivDiameter      0\n",
       "Extent             0\n",
       "Solidity           0\n",
       "roundness          0\n",
       "Compactness        0\n",
       "ShapeFactor1       0\n",
       "ShapeFactor2       0\n",
       "ShapeFactor3       0\n",
       "ShapeFactor4       0\n",
       "Class              0\n",
       "dtype: int64"
      ]
     },
     "execution_count": 245,
     "metadata": {},
     "output_type": "execute_result"
    }
   ],
   "source": [
    "data.isnull().sum()"
   ]
  },
  {
   "cell_type": "markdown",
   "id": "201d7533-8540-4060-bfc0-60a9c294d9ff",
   "metadata": {},
   "source": [
    "## Normalization"
   ]
  },
  {
   "cell_type": "code",
   "execution_count": null,
   "id": "91cee7e3-c050-4932-a418-e201afeed872",
   "metadata": {},
   "outputs": [],
   "source": []
  },
  {
   "cell_type": "code",
   "execution_count": 256,
   "id": "7feabcb3-7d46-41e7-8e19-be640e563c88",
   "metadata": {},
   "outputs": [],
   "source": [
    "from sklearn.preprocessing import LabelEncoder "
   ]
  },
  {
   "cell_type": "code",
   "execution_count": 267,
   "id": "bf5480a1-c52c-45eb-a29e-d75eed12d8f8",
   "metadata": {},
   "outputs": [],
   "source": [
    "label_encoder = LabelEncoder()\n",
    "\n",
    "for column in data:\n",
    "    data[column] = label_encoder.fit_transform(data[column])"
   ]
  },
  {
   "cell_type": "code",
   "execution_count": 268,
   "id": "9a77b9fd-d2e1-433f-8d59-81dc69687ac3",
   "metadata": {},
   "outputs": [],
   "source": [
    "x = data.drop('Class',axis=1)\n",
    "y = data['Class']"
   ]
  },
  {
   "cell_type": "code",
   "execution_count": 269,
   "id": "b4c8dca8-534c-45f9-a6bd-04979a8e3b30",
   "metadata": {},
   "outputs": [
    {
     "data": {
      "text/plain": [
       "0        5\n",
       "1        5\n",
       "2        5\n",
       "3        5\n",
       "4        5\n",
       "        ..\n",
       "13605    3\n",
       "13606    3\n",
       "13608    3\n",
       "13609    3\n",
       "13610    3\n",
       "Name: Class, Length: 13599, dtype: int32"
      ]
     },
     "execution_count": 269,
     "metadata": {},
     "output_type": "execute_result"
    }
   ],
   "source": [
    "y"
   ]
  },
  {
   "cell_type": "code",
   "execution_count": 270,
   "id": "c9669beb-f1e0-4f3e-943e-18bc58e16855",
   "metadata": {},
   "outputs": [],
   "source": [
    "from sklearn.model_selection import train_test_split"
   ]
  },
  {
   "cell_type": "code",
   "execution_count": 271,
   "id": "7240e6cf-6b3e-45e5-b2c3-59bffa7ddf52",
   "metadata": {},
   "outputs": [],
   "source": [
    "x_train,x_test,y_train,y_test = train_test_split(x,y,random_state=42)"
   ]
  },
  {
   "cell_type": "code",
   "execution_count": 273,
   "id": "0c61eba6-dfcc-4ca0-aad5-a4d126ea9ced",
   "metadata": {},
   "outputs": [],
   "source": [
    "from sklearn.ensemble import RandomForestClassifier\n"
   ]
  },
  {
   "cell_type": "code",
   "execution_count": 274,
   "id": "a3b393c4-f416-4cf6-8581-7cc3df539537",
   "metadata": {},
   "outputs": [
    {
     "ename": "NameError",
     "evalue": "name 'randomforestClassifier' is not defined",
     "output_type": "error",
     "traceback": [
      "\u001b[1;31m---------------------------------------------------------------------------\u001b[0m",
      "\u001b[1;31mNameError\u001b[0m                                 Traceback (most recent call last)",
      "Cell \u001b[1;32mIn[274], line 1\u001b[0m\n\u001b[1;32m----> 1\u001b[0m rf \u001b[38;5;241m=\u001b[39m \u001b[43mrandomforestClassifier\u001b[49m()\n",
      "\u001b[1;31mNameError\u001b[0m: name 'randomforestClassifier' is not defined"
     ]
    }
   ],
   "source": [
    "rf = randomforestClassifier()"
   ]
  },
  {
   "cell_type": "code",
   "execution_count": null,
   "id": "c1abcac5-381c-47cd-ba0e-6bc1a268fddd",
   "metadata": {},
   "outputs": [],
   "source": []
  }
 ],
 "metadata": {
  "kernelspec": {
   "display_name": "Python 3 (ipykernel)",
   "language": "python",
   "name": "python3"
  },
  "language_info": {
   "codemirror_mode": {
    "name": "ipython",
    "version": 3
   },
   "file_extension": ".py",
   "mimetype": "text/x-python",
   "name": "python",
   "nbconvert_exporter": "python",
   "pygments_lexer": "ipython3",
   "version": "3.12.6"
  },
  "widgets": {
   "application/vnd.jupyter.widget-state+json": {
    "state": {},
    "version_major": 2,
    "version_minor": 0
   }
  }
 },
 "nbformat": 4,
 "nbformat_minor": 5
}
